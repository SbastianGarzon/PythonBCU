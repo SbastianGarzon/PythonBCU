{
 "cells": [
  {
   "cell_type": "code",
   "execution_count": null,
   "metadata": {
    "collapsed": true
   },
   "outputs": [],
   "source": [
    "import numpy as np\n",
    "import matplotlib.pyplot as plt"
   ]
  },
  {
   "cell_type": "code",
   "execution_count": null,
   "metadata": {
    "collapsed": false
   },
   "outputs": [],
   "source": [
    "empty = np.zeros((20,1), dtype=np.int)\n",
    "green=np.ones((40,1),dtype=np.int)\n",
    "red = np.empty((40,1))\n",
    "red.fill(2)\n",
    "city=np.concatenate((empty,green,red),0)\n",
    "city\n",
    "np.random.shuffle(city)\n",
    "cCity = city.reshape((10,10))\n",
    "original=np.copy(cCity)\n",
    "print (original)\n",
    "print (cCity)"
   ]
  },
  {
   "cell_type": "code",
   "execution_count": null,
   "metadata": {
    "collapsed": false
   },
   "outputs": [],
   "source": [
    "def felicidad(City,pos,color):\n",
    "    felicidad=0\n",
    "    cCity = np.copy(City)\n",
    "    #done\n",
    "    if pos[0]==0 and pos[1]==0:\n",
    "        p=cCity[:pos[0]+2,:pos[1]+2] \n",
    "        p[0,0]=0\n",
    "    #done\n",
    "    elif pos[0]==0 and pos[1]==9:\n",
    "        p=cCity[pos[0]:pos[0]+2,pos[1]-1:]\n",
    "        p[0,1]=0\n",
    "    #done\n",
    "    elif pos[0]==9 and pos[1]==0:\n",
    "        p=cCity[pos[0]-1:,pos[1]:pos[1]+2]\n",
    "        p[1,0]=0   \n",
    "    #done   \n",
    "    elif pos[0]==9 and pos[1]==9:\n",
    "        p=cCity[pos[0]-1:,pos[1]-1:]\n",
    "        p[1,1]=0\n",
    "    #done\n",
    "    elif pos[0]==0:\n",
    "        p=cCity[pos[0]:pos[0]+2,pos[1]-1:pos[1]+2]\n",
    "        p[0,1]=0 \n",
    "    #done\n",
    "    elif pos[0]==9:\n",
    "        p=cCity[pos[0]-1:,pos[1]-1:pos[1]+2]\n",
    "        p[1,1]=0\n",
    "    #done    \n",
    "    elif pos[1]==0:\n",
    "        p=cCity[pos[0]-1:pos[0]+2,:pos[1]+2]\n",
    "        p[1,1]=0\n",
    "\n",
    "    #done    \n",
    "    elif pos[1]==9:\n",
    "        p=cCity[pos[0]-1:pos[0]+2,pos[1]-1:]\n",
    "        p[1,1]=0\n",
    "    #done \n",
    "    else:\n",
    "        p=cCity[pos[0]-1:pos[0]+2,pos[1]-1:pos[1]+2]\n",
    "        p[1,1]=0  \n",
    "    a=np.count_nonzero(p==1)\n",
    "    b=np.count_nonzero(p==2)\n",
    "    c=np.count_nonzero(p==color)\n",
    "    \n",
    "    if (float(a)+float(b))!=0:\n",
    "        prop=float(c)/(float(a)+float(b))\n",
    "        if prop<=0.5:\n",
    "            felicidad=prop*2\n",
    "            return felicidad\n",
    "        else:\n",
    "            felicidad=-(prop-0.5)+1\n",
    "            return felicidad\n",
    "    else:\n",
    "        return 0"
   ]
  },
  {
   "cell_type": "code",
   "execution_count": null,
   "metadata": {
    "collapsed": false
   },
   "outputs": [],
   "source": [
    "trasteos=0\n",
    "\n",
    "while trasteos<=200:\n",
    "    a=np.random.randint(0,9)\n",
    "    b=np.random.randint(0,9)\n",
    "    ciudadano=cCity[(a),(b)]\n",
    "    if ciudadano!=0:\n",
    "        fa=felicidad(cCity,(a,b),ciudadano)#felicidad actual\n",
    "        empty=np.where(cCity==0)\n",
    "        disponible=(len(empty[0]))\n",
    "        randomPos=np.random.randint(0,disponible)\n",
    "        ynew=empty[0][randomPos]\n",
    "        xnew=empty[1][randomPos]\n",
    "        futureCity=np.copy(cCity)\n",
    "        futureCity[ynew,xnew]=ciudadano\n",
    "        fnb=felicidad(futureCity,(ynew,xnew),ciudadano)\n",
    "        if fnb>fa:\n",
    "            cCity[ynew,xnew]=ciudadano\n",
    "            cCity[a,b]=0\n",
    "            trasteos+=1\n",
    "            print (\"Voy en el trasteo numero \"+str(trasteos))\n",
    "\n"
   ]
  },
  {
   "cell_type": "code",
   "execution_count": null,
   "metadata": {
    "collapsed": false
   },
   "outputs": [],
   "source": [
    "trasteos=0\n",
    "\n",
    "while trasteos<=200:\n",
    "    \n",
    "    ciudadanosLib=np.where(cCity!=0)\n",
    "    ciuDis=(len(empty[0]))\n",
    "    randomCiuPos=np.random.randint(0,ciuDis)\n",
    "    yCiu=ciudadanosLib[0][randomCiuPos]\n",
    "    xCiu=ciudadanosLib[1][randomCiuPos]\n",
    "    ciudadano=cCity[(yCiu),(xCiu)]\n",
    "   \n",
    "    fa=felicidad(cCity,(yCiu,xCiu),ciudadano)#felicidad actual\n",
    "    empty=np.where(cCity==0)\n",
    "    disponible=(len(empty[0]))\n",
    "    randomPos=np.random.randint(0,disponible)\n",
    "    ynew=empty[0][randomPos]\n",
    "    xnew=empty[1][randomPos]\n",
    "    futureCity=np.copy(cCity)\n",
    "    futureCity[ynew,xnew]=ciudadano\n",
    "    fnb=felicidad(futureCity,(ynew,xnew),ciudadano)\n",
    "    if fnb>fa:\n",
    "        cCity[ynew,xnew]=ciudadano\n",
    "        cCity[yCiu,xCiu]=0\n",
    "        trasteos+=1\n",
    "        print (\"Voy en el trasteo numero \"+str(trasteos))\n"
   ]
  },
  {
   "cell_type": "code",
   "execution_count": null,
   "metadata": {
    "collapsed": true
   },
   "outputs": [],
   "source": []
  }
 ],
 "metadata": {
  "kernelspec": {
   "display_name": "Python 2",
   "language": "python",
   "name": "python2"
  },
  "language_info": {
   "codemirror_mode": {
    "name": "ipython",
    "version": 2
   },
   "file_extension": ".py",
   "mimetype": "text/x-python",
   "name": "python",
   "nbconvert_exporter": "python",
   "pygments_lexer": "ipython2",
   "version": "2.7.13"
  }
 },
 "nbformat": 4,
 "nbformat_minor": 2
}
